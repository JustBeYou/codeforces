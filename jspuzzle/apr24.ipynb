{
 "cells": [
  {
   "cell_type": "code",
   "execution_count": 1,
   "id": "bbbd540d-872f-4e42-9214-4806eff93647",
   "metadata": {},
   "outputs": [],
   "source": [
    "import numpy as np\n",
    "\n",
    "def pol2car(r, theta):\n",
    "    return np.array([r * np.cos(theta), r * np.sin(theta)])\n",
    "\n",
    "def strategy_1():\n",
    "    r, theta = np.sqrt(np.random.uniform(0, 1)), np.random.uniform(0, 2*np.pi)\n",
    "    \n",
    "    E_r = 1/2\n",
    "    E_dist = np.linalg.norm(r - E_r)\n",
    "    \n",
    "    if r > 1/2:\n",
    "        A_theta = np.random.uniform(0, 2*np.pi)\n",
    "        A_xy = pol2car(r, A_theta)\n",
    "    else:\n",
    "        A_xy = np.array([0, 0])\n",
    "    \n",
    "    xy = pol2car(r, theta)\n",
    "    \n",
    "    A_dist = np.linalg.norm(xy - A_xy)\n",
    "\n",
    "    return 'A' if A_dist < E_dist else 'E'\n",
    "\n",
    "def strategy_2():\n",
    "    r, theta = np.sqrt(np.random.uniform(0, 1)), np.random.uniform(0, 2*np.pi)\n",
    "    \n",
    "    E_r = 1/2\n",
    "    E_dist = np.linalg.norm(r - E_r)\n",
    "    A_xy = np.array([0, 0])\n",
    "    \n",
    "    xy = pol2car(r, theta)\n",
    "    \n",
    "    A_dist = np.linalg.norm(xy - A_xy)\n",
    "\n",
    "    return 'A' if A_dist < E_dist else 'E'\n",
    "\n",
    "def strategy_3():\n",
    "    r, theta = np.sqrt(np.random.uniform(0, 1)), np.random.uniform(0, 2*np.pi)\n",
    "    \n",
    "    E_r = 1/2\n",
    "    E_dist = np.linalg.norm(r - E_r)\n",
    "    \n",
    "    A_theta = np.random.uniform(0, 2*np.pi)\n",
    "    A_xy = pol2car(r, A_theta)\n",
    "    \n",
    "    xy = pol2car(r, theta)\n",
    "    \n",
    "    A_dist = np.linalg.norm(xy - A_xy)\n",
    "\n",
    "    return 'A' if A_dist < E_dist else 'E'\n",
    "\n",
    "def strategy_4(thr):\n",
    "    r, theta = np.sqrt(np.random.uniform(0, 1)), np.random.uniform(0, 2*np.pi)\n",
    "    \n",
    "    E_r = 1/2\n",
    "    E_dist = np.linalg.norm(r - E_r)\n",
    "    \n",
    "    if r > thr:\n",
    "        A_theta = np.random.uniform(0, 2*np.pi)\n",
    "        A_xy = pol2car(r, A_theta)\n",
    "    else:\n",
    "        A_xy = np.array([0, 0])\n",
    "    \n",
    "    xy = pol2car(r, theta)\n",
    "    \n",
    "    A_dist = np.linalg.norm(xy - A_xy)\n",
    "\n",
    "    return 'A' if A_dist < E_dist else 'E'\n",
    "\n",
    "def run(N, strategy):\n",
    "    f = {'A': 0, 'E': 0}\n",
    "    \n",
    "    for _ in range(N):\n",
    "        f[strategy()] += 1\n",
    "    \n",
    "    f = {k: v / N for k,v in f.items()}\n",
    "    return f"
   ]
  },
  {
   "cell_type": "code",
   "execution_count": 2,
   "id": "f04f13e1-e23a-4150-b2f5-5c424dd77182",
   "metadata": {},
   "outputs": [
    {
     "data": {
      "text/plain": [
       "{'A': 0.142573, 'E': 0.857427}"
      ]
     },
     "execution_count": 2,
     "metadata": {},
     "output_type": "execute_result"
    }
   ],
   "source": [
    "N = 1_000_000\n",
    "run(N, strategy_1)"
   ]
  },
  {
   "cell_type": "code",
   "execution_count": 3,
   "id": "e9e25fd4-b172-44fd-b6ec-4800fe1ec0e3",
   "metadata": {},
   "outputs": [
    {
     "data": {
      "text/plain": [
       "{'A': 0.062325, 'E': 0.937675}"
      ]
     },
     "execution_count": 3,
     "metadata": {},
     "output_type": "execute_result"
    }
   ],
   "source": [
    "run(N, strategy_2)"
   ]
  },
  {
   "cell_type": "code",
   "execution_count": 4,
   "id": "3a5e658e-a5e0-4098-8882-18bde5fc1653",
   "metadata": {},
   "outputs": [
    {
     "data": {
      "text/plain": [
       "{'A': 0.145923, 'E': 0.854077}"
      ]
     },
     "execution_count": 4,
     "metadata": {},
     "output_type": "execute_result"
    }
   ],
   "source": [
    "run(N, strategy_3)"
   ]
  },
  {
   "cell_type": "code",
   "execution_count": 5,
   "id": "6e7f8c85-4d87-4289-b975-8106efd3711a",
   "metadata": {},
   "outputs": [],
   "source": [
    "import matplotlib.pyplot as plt"
   ]
  },
  {
   "cell_type": "code",
   "execution_count": 8,
   "id": "698c500c-7532-484e-a6fb-ae65b1c38769",
   "metadata": {},
   "outputs": [
    {
     "name": "stdout",
     "output_type": "stream",
     "text": [
      "0/100\n",
      "1/100\n",
      "2/100\n",
      "3/100\n",
      "4/100\n",
      "5/100\n",
      "6/100\n",
      "7/100\n",
      "8/100\n",
      "9/100\n",
      "10/100\n",
      "11/100\n",
      "12/100\n",
      "13/100\n",
      "14/100\n",
      "15/100\n",
      "16/100\n",
      "17/100\n",
      "18/100\n",
      "19/100\n",
      "20/100\n",
      "21/100\n",
      "22/100\n",
      "23/100\n",
      "24/100\n",
      "25/100\n",
      "26/100\n",
      "27/100\n",
      "28/100\n",
      "29/100\n",
      "30/100\n",
      "31/100\n",
      "32/100\n",
      "33/100\n",
      "34/100\n",
      "35/100\n",
      "36/100\n",
      "37/100\n",
      "38/100\n",
      "39/100\n",
      "40/100\n",
      "41/100\n",
      "42/100\n",
      "43/100\n",
      "44/100\n",
      "45/100\n",
      "46/100\n",
      "47/100\n",
      "48/100\n",
      "49/100\n",
      "50/100\n",
      "51/100\n",
      "52/100\n",
      "53/100\n",
      "54/100\n",
      "55/100\n",
      "56/100\n",
      "57/100\n",
      "58/100\n",
      "59/100\n",
      "60/100\n",
      "61/100\n",
      "62/100\n",
      "63/100\n",
      "64/100\n",
      "65/100\n",
      "66/100\n",
      "67/100\n",
      "68/100\n",
      "69/100\n",
      "70/100\n",
      "71/100\n",
      "72/100\n",
      "73/100\n",
      "74/100\n",
      "75/100\n",
      "76/100\n",
      "77/100\n",
      "78/100\n",
      "79/100\n",
      "80/100\n",
      "81/100\n",
      "82/100\n",
      "83/100\n",
      "84/100\n",
      "85/100\n",
      "86/100\n",
      "87/100\n",
      "88/100\n",
      "89/100\n",
      "90/100\n",
      "91/100\n",
      "92/100\n",
      "93/100\n",
      "94/100\n",
      "95/100\n",
      "96/100\n",
      "97/100\n",
      "98/100\n",
      "99/100\n"
     ]
    },
    {
     "data": {
      "text/plain": [
       "[<matplotlib.lines.Line2D at 0x7f24180fb650>]"
      ]
     },
     "execution_count": 8,
     "metadata": {},
     "output_type": "execute_result"
    },
    {
     "data": {
      "image/png": "[encoded data removed]",
      "text/plain": [
       "<Figure size 640x480 with 1 Axes>"
      ]
     },
     "metadata": {},
     "output_type": "display_data"
    }
   ],
   "source": [
    "res_all = []\n",
    "\n",
    "s = np.arange(0, 1, 0.01)\n",
    "for i, thr in enumerate(s):\n",
    "    print(f\"{i}/{len(s)}\")\n",
    "    res = run(100_000, lambda: strategy_4(thr))\n",
    "    res_all.append(res['A'])\n",
    "\n",
    "plt.plot(s, res_all)"
   ]
  },
  {
   "cell_type": "code",
   "execution_count": 9,
   "id": "44e8d342-c79f-49dd-a0cd-a65599c3bf87",
   "metadata": {},
   "outputs": [
    {
     "data": {
      "text/plain": [
       "(25, 0.16326)"
      ]
     },
     "execution_count": 9,
     "metadata": {},
     "output_type": "execute_result"
    }
   ],
   "source": [
    "q = max(res_all)\n",
    "res_all.index(q), q"
   ]
  },
  {
   "cell_type": "code",
   "execution_count": null,
   "id": "92afa20f-4223-4eeb-a54d-7b058da5e3ce",
   "metadata": {},
   "outputs": [],
   "source": [
    "def convg(strategy, delta):\n",
    "    t = 0\n",
    "    lst = 0\n",
    "    N = 0\n",
    "    k = 1000\n",
    "    \n",
    "    while True:\n",
    "        N += 1\n",
    "        t += 1 if strategy() == 'A' else 0\n",
    "\n",
    "        if N > 100_000 and t > 0 and np.abs(t/N-lst) < delta:\n",
    "            k -= 1\n",
    "\n",
    "        if k == 0:\n",
    "            break\n",
    "\n",
    "        lst = t/N\n",
    "\n",
    "    return t/N, N\n",
    "\n",
    "convg(strategy_4, 1e-6)"
   ]
  }
 ],
 "metadata": {
  "kernelspec": {
   "display_name": "Python 3 (ipykernel)",
   "language": "python",
   "name": "python3"
  },
  "language_info": {
   "codemirror_mode": {
    "name": "ipython",
    "version": 3
   },
   "file_extension": ".py",
   "mimetype": "text/x-python",
   "name": "python",
   "nbconvert_exporter": "python",
   "pygments_lexer": "ipython3",
   "version": "3.11.4"
  }
 },
 "nbformat": 4,
 "nbformat_minor": 5
}
